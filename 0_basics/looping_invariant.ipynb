{
 "cells": [
  {
   "cell_type": "markdown",
   "metadata": {},
   "source": [
    "# Looping Invariant\n",
    "\n",
    "It is a formal way to demonstrate that the algorithm is valid. It's necessary to prove the assertions in three different alogrithm's stage are true. The stages mentioned are **Inicialization**, **Maintenance** and **Termination**."
   ]
  },
  {
   "cell_type": "markdown",
   "metadata": {},
   "source": [
    "#### Exercise: Introduction to Algorithms 3rd ed, 2009, p.22, exercise 2.1-3\n",
    "\n",
    "Consider the searching problem: \\\n",
    "Input: A sequence of n numbers A = (a1, a2, a3,..., an) and a value . \\\n",
    "Output: An index i such that  v = A[i] or the special value NIL if v does not\n",
    "appear in A.\n",
    "\n",
    "Write pseudocode for **linear search**, which scans through the sequence, looking\n",
    "for v. Using a **loop invariant**, prove that your algorithm is correct. Make sure that\n",
    "your loop invariant fulfills the three necessary properties.\n",
    "\n",
    "##### References:\n",
    "- [Linear Search](https://www.geeksforgeeks.org/linear-search/): Iterate linearly each element of array until finds the best suit.\n",
    "\n",
    "##### PSEUDOCODE\n",
    "```\n",
    "LINEAR_SEARCH(A, v) \n",
    "    for i = 1 to A.length\n",
    "        if A[i] == v then\n",
    "            return i \n",
    "\n",
    "    return NIL\n",
    "```\n",
    "\n",
    "##### Loop Invariant\n",
    "- Inicialization: `A[j] != v where j < i`. This is true because, assuming `A[1, ..., length(A)]`, at initialization, `j = i = 1` and `A[j] = A[i-1] = A[1-1] = A[0]` which gives us an empty set. Thus, `A[1, ..., j] != v`.\n",
    "- Maintanance: `A[1, ..., j] != v where j < i and A[i] != v`\n",
    "- Termination: `A[i] == v` returning i or `A[1, ..., j] != v and A[i] != v` which is the same as `A[1, ..., length(A)] != v` return NIL\n"
   ]
  }
 ],
 "metadata": {
  "kernelspec": {
   "display_name": "Python 3.8.10 ('notebooks')",
   "language": "python",
   "name": "python3"
  },
  "language_info": {
   "codemirror_mode": {
    "name": "ipython",
    "version": 3
   },
   "file_extension": ".py",
   "mimetype": "text/x-python",
   "name": "python",
   "nbconvert_exporter": "python",
   "pygments_lexer": "ipython3",
   "version": "3.8.10"
  },
  "orig_nbformat": 4,
  "vscode": {
   "interpreter": {
    "hash": "3837beff03cf854733df5405f8d79419b58c99e4df06913c8bcfa1e8009c148b"
   }
  }
 },
 "nbformat": 4,
 "nbformat_minor": 2
}

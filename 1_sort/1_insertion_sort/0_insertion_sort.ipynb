{
 "cells": [
  {
   "cell_type": "markdown",
   "id": "6d025f3d",
   "metadata": {},
   "source": [
    "# Insertion Sort \n",
    "notes and implementation"
   ]
  },
  {
   "cell_type": "code",
   "execution_count": 65,
   "id": "b831f01b",
   "metadata": {},
   "outputs": [],
   "source": [
    "from copy import deepcopy\n",
    "\n",
    "\n",
    "def insertion_sort(array: list):\n",
    "\n",
    "    # always starts on the second position\n",
    "    for j in range(1, len(array)):\n",
    "\n",
    "        # saves the current item value into \n",
    "        # key variable\n",
    "        key = array[j]\n",
    "\n",
    "        # get the left item position\n",
    "        i = j - 1\n",
    "        \n",
    "        # while there are items on the left \n",
    "        # and the left item is greater than current item, \n",
    "        # copy the value from the left item to current position\n",
    "        while i >= 0 and array[i] > key:\n",
    "            array[i + 1] = array[i]\n",
    "\n",
    "            # get the left item \n",
    "            # from the current left item\n",
    "            i = i - 1\n",
    "        \n",
    "        # once exited the loop (in case of dont have more items in the left or \n",
    "        # the left item is lower than current item)\n",
    "        # put the key variable value in the position of the current item\n",
    "        array[i + 1] = key\n",
    "\n",
    "    return array"
   ]
  },
  {
   "cell_type": "code",
   "execution_count": 58,
   "id": "21062986",
   "metadata": {},
   "outputs": [],
   "source": [
    "from typing import List, Callable, Tuple\n",
    "import time\n",
    "\n",
    "# important comment about `time.process_time`\n",
    "# https://stackoverflow.com/a/62108504/2817904\n",
    "\n",
    "def test(test_suite: List[Tuple[List, List]], function: Callable):\n",
    "    for test in test_suite:\n",
    "        t0 = time.process_time()\n",
    "        v = function(array=test[0])\n",
    "        t1 = time.process_time()\n",
    "        assert v == test[1], (v, test[1])\n",
    "        print(t1-t0)\n"
   ]
  },
  {
   "cell_type": "code",
   "execution_count": 78,
   "id": "41c0a5e0",
   "metadata": {},
   "outputs": [
    {
     "name": "stdout",
     "output_type": "stream",
     "text": [
      "5.9549000003045194e-05\n",
      "1.5337000000670287e-05\n",
      "2.2658999998981244e-05\n",
      "2.211700000032124e-05\n",
      "0.00021049100000070098\n",
      "0.001976282000001106\n",
      "0.026677130999999576\n",
      "0.23217273299999874\n",
      "2.5624829280000014\n"
     ]
    }
   ],
   "source": [
    "test(\n",
    "    function=insertion_sort,\n",
    "    test_suite=[\n",
    "        ([3,2,1], [1,2,3]),\n",
    "        ([1],[1]),\n",
    "        ([5,4,5,6,1],[1,4,5,5,6]),\n",
    "        ([5,2,4,6,1,3],[1,2,3,4,5,6]),\n",
    "        ([i for i in range(100)], [i for i in range(100)]),\n",
    "        ([i for i in range(1_000)], [i for i in range(1_000)]),\n",
    "        ([i for i in range(10_000)], [i for i in range(10_000)]),\n",
    "        ([i for i in range(100_000)], [i for i in range(100_000)]),\n",
    "        ([i for i in range(1_000_000)], [i for i in range(1_000_000)])\n",
    "    ]\n",
    ")"
   ]
  },
  {
   "cell_type": "code",
   "execution_count": null,
   "id": "6d1bc0b4",
   "metadata": {},
   "outputs": [],
   "source": []
  }
 ],
 "metadata": {
  "kernelspec": {
   "display_name": "Python 3.8.10 ('notebooks')",
   "language": "python",
   "name": "python3"
  },
  "language_info": {
   "codemirror_mode": {
    "name": "ipython",
    "version": 3
   },
   "file_extension": ".py",
   "mimetype": "text/x-python",
   "name": "python",
   "nbconvert_exporter": "python",
   "pygments_lexer": "ipython3",
   "version": "3.8.10"
  },
  "vscode": {
   "interpreter": {
    "hash": "3837beff03cf854733df5405f8d79419b58c99e4df06913c8bcfa1e8009c148b"
   }
  }
 },
 "nbformat": 4,
 "nbformat_minor": 5
}

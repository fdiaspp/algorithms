{
 "cells": [
  {
   "cell_type": "markdown",
   "id": "6d025f3d",
   "metadata": {},
   "source": [
    "# Insertion Sort \n",
    "notes and implementation"
   ]
  },
  {
   "cell_type": "code",
   "execution_count": 3,
   "id": "b831f01b",
   "metadata": {},
   "outputs": [],
   "source": [
    "from copy import deepcopy\n",
    "\n",
    "\n",
    "def insertion_sort(array: list):\n",
    "\n",
    "    # always starts on the second position\n",
    "    for j in range(1, len(array)):\n",
    "\n",
    "        # saves the current item value into \n",
    "        # key variable\n",
    "        key = array[j]\n",
    "\n",
    "        # get the left item position\n",
    "        i = j - 1\n",
    "        \n",
    "        # while there are items on the left \n",
    "        # and the left item is greater than current item, \n",
    "        # copy the value from the left item to current position\n",
    "        while i >= 0 and array[i] > key:\n",
    "            array[i + 1] = array[i]\n",
    "\n",
    "            # get the left item \n",
    "            # from the current left item\n",
    "            i = i - 1\n",
    "        \n",
    "        # once exited the loop (in case of dont have more items in the left or \n",
    "        # the left item is lower than current item)\n",
    "        # put the key variable value in the position of the current item\n",
    "        array[i + 1] = key\n",
    "\n",
    "    return array"
   ]
  },
  {
   "cell_type": "code",
   "execution_count": 4,
   "id": "21062986",
   "metadata": {},
   "outputs": [],
   "source": [
    "from typing import List, Callable, Tuple\n",
    "import time\n",
    "\n",
    "# important comment about `time.process_time`\n",
    "# https://stackoverflow.com/a/62108504/2817904\n",
    "\n",
    "def test(test_suite: List[Tuple[List, List]], function: Callable):\n",
    "    for test in test_suite:\n",
    "        t0 = time.process_time()\n",
    "        v = function(array=test[0])\n",
    "        t1 = time.process_time()\n",
    "        assert v == test[1], (v, test[1])\n",
    "        print(f\"process_time={t1-t0}, nmbr_of_items={len(test[0])}\")\n"
   ]
  },
  {
   "cell_type": "code",
   "execution_count": 13,
   "id": "41c0a5e0",
   "metadata": {},
   "outputs": [
    {
     "name": "stdout",
     "output_type": "stream",
     "text": [
      "process_time=1.8320000009452997e-05, nmbr_of_items=3\n",
      "process_time=3.783000011026161e-06, nmbr_of_items=1\n",
      "process_time=4.108000013047786e-06, nmbr_of_items=5\n",
      "process_time=9.38100001235398e-06, nmbr_of_items=6\n",
      "process_time=1.8643999993628313e-05, nmbr_of_items=100\n",
      "process_time=0.0001863820000096439, nmbr_of_items=1000\n",
      "process_time=0.001709019000003309, nmbr_of_items=10000\n",
      "process_time=0.01848787700001253, nmbr_of_items=100000\n",
      "process_time=0.14097499400000402, nmbr_of_items=1000000\n",
      "process_time=0.0005902069999876858, nmbr_of_items=100\n",
      "process_time=0.05892638799997485, nmbr_of_items=1000\n",
      "process_time=6.318522430000002, nmbr_of_items=10000\n"
     ]
    }
   ],
   "source": [
    "test(\n",
    "    function=insertion_sort,\n",
    "    test_suite=[\n",
    "        ([3,2,1], [1,2,3]),\n",
    "        ([1],[1]),\n",
    "        ([5,4,5,6,1],[1,4,5,5,6]),\n",
    "        ([5,2,4,6,1,3],[1,2,3,4,5,6]),\n",
    "        ([i for i in range(100)], [i for i in range(100)]),\n",
    "        ([i for i in range(1_000)], [i for i in range(1_000)]),\n",
    "        ([i for i in range(10_000)], [i for i in range(10_000)]),\n",
    "        ([i for i in range(100_000)], [i for i in range(100_000)]),\n",
    "        ([i for i in range(1_000_000)], [i for i in range(1_000_000)]),\n",
    "        ([i for i in range(100-1, -1, -1)], [i for i in range(100)]),\n",
    "        ([i for i in range(1_000-1, -1, -1)], [i for i in range(1_000)]),\n",
    "        ([i for i in range(10_000-1, -1, -1)], [i for i in range(10_000)])\n",
    "        # ([i for i in range(100_000-1, -1, -1)], [i for i in range(100_000)]),\n",
    "        # ([i for i in range(1_000_000-1, -1, -1)], [i for i in range(1_000_000)])        \n",
    "    ]\n",
    ")"
   ]
  }
 ],
 "metadata": {
  "kernelspec": {
   "display_name": "Python 3.8.10 ('notebooks')",
   "language": "python",
   "name": "python3"
  },
  "language_info": {
   "codemirror_mode": {
    "name": "ipython",
    "version": 3
   },
   "file_extension": ".py",
   "mimetype": "text/x-python",
   "name": "python",
   "nbconvert_exporter": "python",
   "pygments_lexer": "ipython3",
   "version": "3.8.10"
  },
  "vscode": {
   "interpreter": {
    "hash": "3837beff03cf854733df5405f8d79419b58c99e4df06913c8bcfa1e8009c148b"
   }
  }
 },
 "nbformat": 4,
 "nbformat_minor": 5
}

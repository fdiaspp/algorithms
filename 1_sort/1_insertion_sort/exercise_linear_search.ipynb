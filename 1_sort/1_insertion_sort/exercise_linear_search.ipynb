{
 "cells": [
  {
   "cell_type": "markdown",
   "metadata": {},
   "source": [
    "## 2.1-3 from Introduction to Algorithms 3 edition, 2019, p.22\n",
    "\n",
    "Consider the searching problem:\n",
    "Input: A sequence of n numbers A = (a1, a2, a3,..., an) and a value .\n",
    "Output: An index i such that  v = A[i] or the special value NIL if v does not\n",
    "appear in A.\n",
    "\n",
    "Write pseudocode for linear search, which scans through the sequence, looking\n",
    "for v. Using a loop invariant, prove that your algorithm is correct. Make sure that\n",
    "your loop invariant fulfills the three necessary properties."
   ]
  },
  {
   "cell_type": "markdown",
   "metadata": {},
   "source": [
    "### Loop Invariant:\n",
    "\\#todo"
   ]
  },
  {
   "cell_type": "markdown",
   "metadata": {},
   "source": [
    "### Linear Search\n",
    "\\# todo"
   ]
  },
  {
   "cell_type": "markdown",
   "metadata": {},
   "source": []
  },
  {
   "cell_type": "code",
   "execution_count": 6,
   "metadata": {},
   "outputs": [],
   "source": [
    "from ipynb.fs.defs.insertion_sort import insertion_sort_increasing_order"
   ]
  }
 ],
 "metadata": {
  "kernelspec": {
   "display_name": "Python 3.8.10 ('notebooks')",
   "language": "python",
   "name": "python3"
  },
  "language_info": {
   "codemirror_mode": {
    "name": "ipython",
    "version": 3
   },
   "file_extension": ".py",
   "mimetype": "text/x-python",
   "name": "python",
   "nbconvert_exporter": "python",
   "pygments_lexer": "ipython3",
   "version": "3.8.10"
  },
  "orig_nbformat": 4,
  "vscode": {
   "interpreter": {
    "hash": "3837beff03cf854733df5405f8d79419b58c99e4df06913c8bcfa1e8009c148b"
   }
  }
 },
 "nbformat": 4,
 "nbformat_minor": 2
}
